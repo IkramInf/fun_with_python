{
 "cells": [
  {
   "cell_type": "markdown",
   "metadata": {},
   "source": [
    "__In Decorators, functions are taken as the argument into another function and then called inside the wrapper function.__\n"
   ]
  },
  {
   "cell_type": "code",
   "execution_count": 13,
   "metadata": {},
   "outputs": [
    {
     "name": "stdout",
     "output_type": "stream",
     "text": [
      "221\n"
     ]
    }
   ],
   "source": [
    "# Create a function to add two numbers\n",
    "\n",
    "def addition(x, y):\n",
    "    print(x+y)\n",
    "    \n",
    "# calling the addition function\n",
    "addition(101, 120)"
   ]
  },
  {
   "cell_type": "markdown",
   "metadata": {},
   "source": [
    "Our function is working nicely. We want to use this function as an argument to our wrapper function. Let's create our wrapper function and pass 'addition' function as a parameter into wrapper function."
   ]
  },
  {
   "cell_type": "code",
   "execution_count": 18,
   "metadata": {},
   "outputs": [
    {
     "ename": "NameError",
     "evalue": "name 'var1' is not defined",
     "output_type": "error",
     "traceback": [
      "\u001b[0;31m---------------------------------------------------------------------------\u001b[0m",
      "\u001b[0;31mNameError\u001b[0m                                 Traceback (most recent call last)",
      "\u001b[0;32m<ipython-input-18-4894f656872f>\u001b[0m in \u001b[0;36m<module>\u001b[0;34m\u001b[0m\n\u001b[1;32m      7\u001b[0m     \u001b[0mprint\u001b[0m\u001b[0;34m(\u001b[0m\u001b[0ma\u001b[0m\u001b[0;34m+\u001b[0m\u001b[0mb\u001b[0m\u001b[0;34m)\u001b[0m\u001b[0;34m\u001b[0m\u001b[0;34m\u001b[0m\u001b[0m\n\u001b[1;32m      8\u001b[0m \u001b[0;34m\u001b[0m\u001b[0m\n\u001b[0;32m----> 9\u001b[0;31m \u001b[0maddition\u001b[0m \u001b[0;34m=\u001b[0m \u001b[0mwrapper\u001b[0m\u001b[0;34m(\u001b[0m\u001b[0maddition\u001b[0m\u001b[0;34m)\u001b[0m\u001b[0;34m\u001b[0m\u001b[0;34m\u001b[0m\u001b[0m\n\u001b[0m\u001b[1;32m     10\u001b[0m \u001b[0;34m\u001b[0m\u001b[0m\n\u001b[1;32m     11\u001b[0m \u001b[0maddition\u001b[0m\u001b[0;34m(\u001b[0m\u001b[0ma\u001b[0m\u001b[0;34m,\u001b[0m \u001b[0mb\u001b[0m\u001b[0;34m)\u001b[0m\u001b[0;34m\u001b[0m\u001b[0;34m\u001b[0m\u001b[0m\n",
      "\u001b[0;32m<ipython-input-18-4894f656872f>\u001b[0m in \u001b[0;36mwrapper\u001b[0;34m(function)\u001b[0m\n\u001b[1;32m      2\u001b[0m \u001b[0;34m\u001b[0m\u001b[0m\n\u001b[1;32m      3\u001b[0m \u001b[0;32mdef\u001b[0m \u001b[0mwrapper\u001b[0m\u001b[0;34m(\u001b[0m\u001b[0mfunction\u001b[0m\u001b[0;34m)\u001b[0m\u001b[0;34m:\u001b[0m\u001b[0;34m\u001b[0m\u001b[0;34m\u001b[0m\u001b[0m\n\u001b[0;32m----> 4\u001b[0;31m     \u001b[0;32mreturn\u001b[0m \u001b[0mfunction\u001b[0m\u001b[0;34m(\u001b[0m\u001b[0mvar1\u001b[0m\u001b[0;34m,\u001b[0m \u001b[0mvar2\u001b[0m\u001b[0;34m)\u001b[0m\u001b[0;34m\u001b[0m\u001b[0;34m\u001b[0m\u001b[0m\n\u001b[0m\u001b[1;32m      5\u001b[0m \u001b[0;34m\u001b[0m\u001b[0m\n\u001b[1;32m      6\u001b[0m \u001b[0;32mdef\u001b[0m \u001b[0maddition\u001b[0m\u001b[0;34m(\u001b[0m\u001b[0mx\u001b[0m\u001b[0;34m,\u001b[0m \u001b[0my\u001b[0m\u001b[0;34m)\u001b[0m\u001b[0;34m:\u001b[0m\u001b[0;34m\u001b[0m\u001b[0;34m\u001b[0m\u001b[0m\n",
      "\u001b[0;31mNameError\u001b[0m: name 'var1' is not defined"
     ]
    }
   ],
   "source": [
    "a, b = 101, 120\n",
    "\n",
    "def wrapper(function):\n",
    "    return function(var1, var2)\n",
    "\n",
    "def addition(x, y):\n",
    "    print(a+b)\n",
    "\n",
    "addition = wrapper(addition)\n",
    "\n",
    "addition(a, b)"
   ]
  },
  {
   "cell_type": "markdown",
   "metadata": {},
   "source": [
    "This gives use 'NameError' as name 'var1' is not defined. So, what can we do to solve this issue?<br>\n",
    "We may create another function inside wrapper function to input arguments.<br>"
   ]
  },
  {
   "cell_type": "code",
   "execution_count": 21,
   "metadata": {},
   "outputs": [
    {
     "name": "stdout",
     "output_type": "stream",
     "text": [
      "221\n"
     ]
    }
   ],
   "source": [
    "a, b = 101, 120\n",
    "\n",
    "def wrapper(function): # wrapper function will input function as parameter\n",
    "    def inner(var1, var2): # inner function will input variables as parameters\n",
    "        function(var1, var2)\n",
    "    return inner\n",
    "\n",
    "def addition(x, y):\n",
    "    print(a+b)\n",
    "    \n",
    "addition = wrapper(addition)\n",
    "\n",
    "addition(a, b)"
   ]
  },
  {
   "cell_type": "markdown",
   "metadata": {},
   "source": [
    "<code>\n",
    "def addition(x, y):\n",
    "    print(a+b)    \n",
    "addition = wrapper(addition)\n",
    "addition(a, b)</code>\n",
    "\n",
    "We may replace the above code with the following code.\n",
    "\n",
    "<code>\n",
    "@wrapper\n",
    "def addition(x, y):\n",
    "    print(a+b)\n",
    "addition(a, b)</code>"
   ]
  },
  {
   "cell_type": "code",
   "execution_count": 22,
   "metadata": {},
   "outputs": [
    {
     "name": "stdout",
     "output_type": "stream",
     "text": [
      "221\n"
     ]
    }
   ],
   "source": [
    "a, b = 101, 120\n",
    "\n",
    "def wrapper(function):\n",
    "    def inner(var1, var2):\n",
    "        function(var1, var2)\n",
    "    return inner\n",
    "\n",
    "@wrapper\n",
    "def addition(x, y):\n",
    "    print(a+b)\n",
    "\n",
    "addition(a, b)"
   ]
  },
  {
   "cell_type": "markdown",
   "metadata": {},
   "source": [
    "### Problem\n",
    "See the problem by clicking on the following link:\n",
    "[Standardize Mobile Number Using Decorators](https://www.hackerrank.com/challenges/standardize-mobile-number-using-decorators/problem)"
   ]
  },
  {
   "cell_type": "code",
   "execution_count": 11,
   "metadata": {},
   "outputs": [
    {
     "name": "stdout",
     "output_type": "stream",
     "text": [
      "3\n",
      "07895462130\n",
      "919875641230\n",
      "9195969878\n",
      "+91 78954 62130\n",
      "+91 91959 69878\n",
      "+91 98756 41230\n"
     ]
    }
   ],
   "source": [
    "def wrapper(function):\n",
    "    def fun(phoneNumber):\n",
    "        function([\"+91 \"+c[-10:-5]+\" \"+c[-5:] for c in phoneNumber])\n",
    "    return fun\n",
    "\n",
    "@wrapper\n",
    "def sort_phone(l):\n",
    "    print(*sorted(l), sep='\\n')\n",
    "\n",
    "if __name__ == '__main__':\n",
    "    l = [input() for _ in range(int(input()))]\n",
    "    sort_phone(l)"
   ]
  },
  {
   "cell_type": "markdown",
   "metadata": {},
   "source": [
    "Now, given a list of string type numbers : ['1', '2', '3', '4', '5', '6', '7', '8', '9', '10', '11', '12', '13', '14', '15'].<br>\n",
    "First, find palindromic integers among them. Second, Square all of them. Third, print the sum of the squared palindromic integers."
   ]
  },
  {
   "cell_type": "code",
   "execution_count": 31,
   "metadata": {},
   "outputs": [
    {
     "name": "stdout",
     "output_type": "stream",
     "text": [
      "Palindromic integers are :  [1, 2, 3, 4, 5, 6, 7, 8, 9, 11]\n",
      "Square of each palindromic integer are :  [1, 4, 9, 16, 25, 36, 49, 64, 81, 121]\n",
      "Sum of the squared palindromic integers are :  406\n",
      "406\n"
     ]
    }
   ],
   "source": [
    "def wrapper1(function):\n",
    "    def palindromicInteger():\n",
    "        n = function()\n",
    "        palindromicInt = [int(i) for i in n if i == i[::-1]]\n",
    "        print(\"Palindromic integers are : \", palindromicInt)\n",
    "        return palindromicInt\n",
    "    \n",
    "    return palindromicInteger\n",
    "\n",
    "def wrapper2(function):\n",
    "    def square():\n",
    "        n = function()\n",
    "        squared = [i**2 for i in n]\n",
    "        print(\"Square of each palindromic integer are : \", squared)\n",
    "        return squared\n",
    "    \n",
    "    return square\n",
    "\n",
    "def wrapper3(function):\n",
    "    def addition():\n",
    "        n = function()\n",
    "        result = sum(n)\n",
    "        print(\"Sum of the squared palindromic integers are : \", result)\n",
    "        return result\n",
    "    \n",
    "    return addition\n",
    "\n",
    "@wrapper3\n",
    "@wrapper2\n",
    "@wrapper1\n",
    "def number():\n",
    "    return ['1', '2', '3', '4', '5', '6', '7', '8', '9', '10', '11', '12', '13', '14', '15']\n",
    "\n",
    "print(number())"
   ]
  },
  {
   "cell_type": "markdown",
   "metadata": {},
   "source": [
    "<code>\n",
    "@wrapper3\n",
    "@wrapper2\n",
    "@wrapper1\n",
    "def number()</code>\n",
    "\n",
    "Above code indicates <code>wrapper3(wrapper2(wrapper1(number)))</code>"
   ]
  },
  {
   "cell_type": "code",
   "execution_count": null,
   "metadata": {},
   "outputs": [],
   "source": []
  }
 ],
 "metadata": {
  "kernelspec": {
   "display_name": "Python 3",
   "language": "python",
   "name": "python3"
  },
  "language_info": {
   "codemirror_mode": {
    "name": "ipython",
    "version": 3
   },
   "file_extension": ".py",
   "mimetype": "text/x-python",
   "name": "python",
   "nbconvert_exporter": "python",
   "pygments_lexer": "ipython3",
   "version": "3.7.4"
  }
 },
 "nbformat": 4,
 "nbformat_minor": 2
}
