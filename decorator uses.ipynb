{
 "cells": [
  {
   "cell_type": "markdown",
   "id": "3f4731a9",
   "metadata": {},
   "source": [
    "__Problems: use a decorator to time how long it takes for a function to execute__"
   ]
  },
  {
   "cell_type": "code",
   "execution_count": 1,
   "id": "acf974b9",
   "metadata": {},
   "outputs": [],
   "source": [
    "import time"
   ]
  },
  {
   "cell_type": "code",
   "execution_count": 2,
   "id": "c8626d3e",
   "metadata": {},
   "outputs": [
    {
     "name": "stdout",
     "output_type": "stream",
     "text": [
      "add_nums took 4.291534423828125e-06 seconds to execute\n",
      "28\n",
      "add_seqs took 4.0531158447265625e-06 seconds to execute\n",
      "ATGCTAGTTCAATAG\n"
     ]
    }
   ],
   "source": [
    "# Define a timer decorator that calculates the execution time of a function\n",
    "def timer(function):\n",
    "    \"\"\"\n",
    "    takes a function as an argument and returns a new function\n",
    "    \"\"\"\n",
    "    def inner(*args, **kwargs):\n",
    "        \"\"\"\n",
    "        wraps the original function with some additional functionality\n",
    "        \"\"\"\n",
    "        start_time = time.time()\n",
    "        result = function(*args, **kwargs)\n",
    "        end_time = time.time()\n",
    "        print(f\"{function.__name__} took {end_time - start_time} seconds to execute\")\n",
    "        return result\n",
    "    return inner\n",
    "\n",
    "@timer\n",
    "def add_nums(*args):\n",
    "    \"\"\"\n",
    "    add multiple values\n",
    "    \"\"\"\n",
    "    return sum(args)\n",
    "\n",
    "@timer\n",
    "def add_seqs(**kwargs):\n",
    "    \"\"\"\n",
    "    add multiple sequences\n",
    "    \"\"\"\n",
    "    seq = \"\".join([v for k, v in kwargs.items()])\n",
    "    return seq\n",
    "\n",
    "print(add_nums(1, 2, 3, 4, 5, 6, 7))\n",
    "print(add_seqs(seq1=\"ATGCTA\", seq2=\"GTTCAA\", seq3=\"TAG\"))"
   ]
  },
  {
   "cell_type": "code",
   "execution_count": null,
   "id": "a9a70152",
   "metadata": {},
   "outputs": [],
   "source": []
  }
 ],
 "metadata": {
  "kernelspec": {
   "display_name": "Python 3 (ipykernel)",
   "language": "python",
   "name": "python3"
  },
  "language_info": {
   "codemirror_mode": {
    "name": "ipython",
    "version": 3
   },
   "file_extension": ".py",
   "mimetype": "text/x-python",
   "name": "python",
   "nbconvert_exporter": "python",
   "pygments_lexer": "ipython3",
   "version": "3.9.12"
  }
 },
 "nbformat": 4,
 "nbformat_minor": 5
}
