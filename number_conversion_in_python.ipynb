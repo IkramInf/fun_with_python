{
 "cells": [
  {
   "cell_type": "markdown",
   "metadata": {},
   "source": [
    "# decimal to binary, octal, hexadecimal conversion"
   ]
  },
  {
   "cell_type": "code",
   "execution_count": 27,
   "metadata": {},
   "outputs": [
    {
     "data": {
      "text/plain": [
       "'0b1010'"
      ]
     },
     "execution_count": 27,
     "metadata": {},
     "output_type": "execute_result"
    }
   ],
   "source": [
    "bin(10)"
   ]
  },
  {
   "cell_type": "code",
   "execution_count": 28,
   "metadata": {},
   "outputs": [
    {
     "data": {
      "text/plain": [
       "'0o12'"
      ]
     },
     "execution_count": 28,
     "metadata": {},
     "output_type": "execute_result"
    }
   ],
   "source": [
    "oct(10)"
   ]
  },
  {
   "cell_type": "code",
   "execution_count": 29,
   "metadata": {},
   "outputs": [
    {
     "data": {
      "text/plain": [
       "'0xa'"
      ]
     },
     "execution_count": 29,
     "metadata": {},
     "output_type": "execute_result"
    }
   ],
   "source": [
    "hex(10)"
   ]
  },
  {
   "cell_type": "code",
   "execution_count": 30,
   "metadata": {},
   "outputs": [],
   "source": [
    "def decimal_to_bin_oct_hex(n):\n",
    "    return bin(n), oct(n), hex(n)"
   ]
  },
  {
   "cell_type": "code",
   "execution_count": 31,
   "metadata": {},
   "outputs": [
    {
     "name": "stdout",
     "output_type": "stream",
     "text": [
      "137\n"
     ]
    }
   ],
   "source": [
    "number = int(input())\n",
    "\n",
    "binary, octal, hexadecimal = decimal_to_bin_oct_hex(number)"
   ]
  },
  {
   "cell_type": "code",
   "execution_count": 32,
   "metadata": {},
   "outputs": [
    {
     "name": "stdout",
     "output_type": "stream",
     "text": [
      "binary of 137 = 0b10001001\n",
      "octal of 137 = 0o211\n",
      "hexadecimal of 137 = 0x89\n"
     ]
    }
   ],
   "source": [
    "print('binary of {} = {}'.format(number, binary))\n",
    "print('octal of {} = {}'.format(number, octal))\n",
    "print('hexadecimal of {} = {}'.format(number, hexadecimal))"
   ]
  },
  {
   "cell_type": "code",
   "execution_count": 33,
   "metadata": {},
   "outputs": [
    {
     "name": "stdout",
     "output_type": "stream",
     "text": [
      "binary = 10001001\n",
      "octal = 211\n",
      "hexadecimal = 89\n"
     ]
    }
   ],
   "source": [
    "# you may simply use format function inside print\n",
    "\n",
    "print(\"binary = {0:b}\\noctal = {0:o}\\nhexadecimal = {0:x}\".format(number, number, number))"
   ]
  },
  {
   "cell_type": "markdown",
   "metadata": {},
   "source": [
    "# binary, octal, hexadecimal to decimal conversion"
   ]
  },
  {
   "cell_type": "code",
   "execution_count": 40,
   "metadata": {},
   "outputs": [
    {
     "data": {
      "text/plain": [
       "34"
      ]
     },
     "execution_count": 40,
     "metadata": {},
     "output_type": "execute_result"
    }
   ],
   "source": [
    "int('100010', 2)  # int(number in string, base of that number)"
   ]
  },
  {
   "cell_type": "code",
   "execution_count": 35,
   "metadata": {},
   "outputs": [
    {
     "data": {
      "text/plain": [
       "34"
      ]
     },
     "execution_count": 35,
     "metadata": {},
     "output_type": "execute_result"
    }
   ],
   "source": [
    "int('42', 8)"
   ]
  },
  {
   "cell_type": "code",
   "execution_count": 36,
   "metadata": {},
   "outputs": [
    {
     "data": {
      "text/plain": [
       "34"
      ]
     },
     "execution_count": 36,
     "metadata": {},
     "output_type": "execute_result"
    }
   ],
   "source": [
    "int('22', 16)"
   ]
  },
  {
   "cell_type": "code",
   "execution_count": 37,
   "metadata": {},
   "outputs": [],
   "source": [
    "def bin_oct_hex_to_decimal(binary, octal, hexadecimal):\n",
    "    bin_to_decimal = int(str(binary), 2)\n",
    "    oct_to_decimal = int(str(octal), 8)\n",
    "    hex_to_decimal = int(str(hexadecimal), 16)\n",
    "    \n",
    "    return bin_to_decimal, oct_to_decimal, hex_to_decimal"
   ]
  },
  {
   "cell_type": "code",
   "execution_count": 38,
   "metadata": {},
   "outputs": [],
   "source": [
    "bin_to_decimal, oct_to_decimal, hex_to_decimal = bin_oct_hex_to_decimal(binary, octal, hexadecimal)"
   ]
  },
  {
   "cell_type": "code",
   "execution_count": 39,
   "metadata": {},
   "outputs": [
    {
     "name": "stdout",
     "output_type": "stream",
     "text": [
      "decimal of 0b10001001 = 137\n",
      "decimal of 0o211 = 137\n",
      "decimal of 0x89 = 137\n"
     ]
    }
   ],
   "source": [
    "print('decimal of {} = {}'.format(binary, bin_to_decimal))\n",
    "print('decimal of {} = {}'.format(octal, oct_to_decimal))\n",
    "print('decimal of {} = {}'.format(hexadecimal, hex_to_decimal))"
   ]
  },
  {
   "cell_type": "code",
   "execution_count": null,
   "metadata": {},
   "outputs": [],
   "source": []
  }
 ],
 "metadata": {
  "kernelspec": {
   "display_name": "Python 3",
   "language": "python",
   "name": "python3"
  },
  "language_info": {
   "codemirror_mode": {
    "name": "ipython",
    "version": 3
   },
   "file_extension": ".py",
   "mimetype": "text/x-python",
   "name": "python",
   "nbconvert_exporter": "python",
   "pygments_lexer": "ipython3",
   "version": "3.7.4"
  }
 },
 "nbformat": 4,
 "nbformat_minor": 2
}
